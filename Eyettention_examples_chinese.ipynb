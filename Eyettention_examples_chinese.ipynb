{
 "cells": [
  {
   "cell_type": "markdown",
   "id": "nuclear-dream",
   "metadata": {
    "id": "nuclear-dream"
   },
   "source": [
    "# Eyettention"
   ]
  },
  {
   "cell_type": "markdown",
   "id": "g-FLEOyvYJUG",
   "metadata": {
    "id": "g-FLEOyvYJUG"
   },
   "source": [
    "**Configuration**"
   ]
  },
  {
   "cell_type": "code",
   "execution_count": 1,
   "id": "neutral-montreal",
   "metadata": {
    "id": "neutral-montreal"
   },
   "outputs": [],
   "source": [
    "import numpy as np\n",
    "#configuration\n",
    "#Chinese\n",
    "cf = {\"model_pretrained\": \"bert-base-chinese\",\n",
    "      \"atten_type\": 'local-g',\n",
    "      #batch computation for training (BSC dataset)\n",
    "      \"max_sn_len\": 27,\n",
    "      \"max_sp_len\": 40\n",
    "     }"
   ]
  },
  {
   "cell_type": "code",
   "execution_count": 2,
   "id": "uhLxInukW82r",
   "metadata": {
    "colab": {
     "base_uri": "https://localhost:8080/"
    },
    "id": "uhLxInukW82r",
    "outputId": "76c33a63-4d13-4496-976d-126fe4ebb1b0"
   },
   "outputs": [
    {
     "name": "stdout",
     "output_type": "stream",
     "text": [
      "Requirement already satisfied: transformers==4.27.0 in c:\\users\\shuwe\\anaconda3\\envs\\wenwen\\lib\\site-packages (4.27.0)\n",
      "Requirement already satisfied: filelock in c:\\users\\shuwe\\anaconda3\\envs\\wenwen\\lib\\site-packages (from transformers==4.27.0) (3.0.12)\n",
      "Requirement already satisfied: pyyaml>=5.1 in c:\\users\\shuwe\\appdata\\roaming\\python\\python38\\site-packages (from transformers==4.27.0) (5.4.1)\n",
      "Requirement already satisfied: tokenizers!=0.11.3,<0.14,>=0.11.1 in c:\\users\\shuwe\\anaconda3\\envs\\wenwen\\lib\\site-packages (from transformers==4.27.0) (0.12.1)\n",
      "Requirement already satisfied: requests in c:\\users\\shuwe\\appdata\\roaming\\python\\python38\\site-packages (from transformers==4.27.0) (2.25.1)\n",
      "Requirement already satisfied: numpy>=1.17 in c:\\users\\shuwe\\appdata\\roaming\\python\\python38\\site-packages (from transformers==4.27.0) (1.20.3)\n",
      "Requirement already satisfied: packaging>=20.0 in c:\\users\\shuwe\\appdata\\roaming\\python\\python38\\site-packages (from transformers==4.27.0) (20.9)\n",
      "Requirement already satisfied: regex!=2019.12.17 in c:\\users\\shuwe\\anaconda3\\envs\\wenwen\\lib\\site-packages (from transformers==4.27.0) (2021.4.4)\n",
      "Requirement already satisfied: tqdm>=4.27 in c:\\users\\shuwe\\anaconda3\\envs\\wenwen\\lib\\site-packages (from transformers==4.27.0) (4.65.0)\n",
      "Requirement already satisfied: huggingface-hub<1.0,>=0.11.0 in c:\\users\\shuwe\\anaconda3\\envs\\wenwen\\lib\\site-packages (from transformers==4.27.0) (0.15.1)\n",
      "Requirement already satisfied: fsspec in c:\\users\\shuwe\\anaconda3\\envs\\wenwen\\lib\\site-packages (from huggingface-hub<1.0,>=0.11.0->transformers==4.27.0) (2023.6.0)\n",
      "Requirement already satisfied: typing-extensions>=3.7.4.3 in c:\\users\\shuwe\\anaconda3\\envs\\wenwen\\lib\\site-packages (from huggingface-hub<1.0,>=0.11.0->transformers==4.27.0) (4.5.0)\n",
      "Requirement already satisfied: pyparsing>=2.0.2 in c:\\users\\shuwe\\appdata\\roaming\\python\\python38\\site-packages (from packaging>=20.0->transformers==4.27.0) (2.4.7)\n",
      "Requirement already satisfied: colorama in c:\\users\\shuwe\\anaconda3\\envs\\wenwen\\lib\\site-packages (from tqdm>=4.27->transformers==4.27.0) (0.4.4)\n",
      "Requirement already satisfied: chardet<5,>=3.0.2 in c:\\users\\shuwe\\anaconda3\\envs\\wenwen\\lib\\site-packages (from requests->transformers==4.27.0) (3.0.4)\n",
      "Requirement already satisfied: urllib3<1.27,>=1.21.1 in c:\\users\\shuwe\\appdata\\roaming\\python\\python38\\site-packages (from requests->transformers==4.27.0) (1.26.5)\n",
      "Requirement already satisfied: certifi>=2017.4.17 in c:\\users\\shuwe\\appdata\\roaming\\python\\python38\\site-packages (from requests->transformers==4.27.0) (2020.12.5)\n",
      "Requirement already satisfied: idna<3,>=2.5 in c:\\users\\shuwe\\appdata\\roaming\\python\\python38\\site-packages (from requests->transformers==4.27.0) (2.10)\n"
     ]
    }
   ],
   "source": [
    "!pip install --upgrade transformers==4.27.0"
   ]
  },
  {
   "cell_type": "code",
   "execution_count": 3,
   "id": "8-8qDf4EXljd",
   "metadata": {
    "colab": {
     "base_uri": "https://localhost:8080/"
    },
    "id": "8-8qDf4EXljd",
    "outputId": "97cffda3-ffde-4231-c80b-0bfbc9f98a68"
   },
   "outputs": [
    {
     "name": "stderr",
     "output_type": "stream",
     "text": [
      "fatal: destination path 'Eyettention' already exists and is not an empty directory.\n"
     ]
    }
   ],
   "source": [
    "# You can also just download the file model.py, which is only used in this tutorial\n",
    "!git clone https://github.com/aeye-lab/Eyettention"
   ]
  },
  {
   "cell_type": "markdown",
   "id": "jbqmeRpRY5Sg",
   "metadata": {
    "id": "jbqmeRpRY5Sg"
   },
   "source": [
    "**Load the model and download pre-trained weights**"
   ]
  },
  {
   "cell_type": "code",
   "execution_count": 4,
   "id": "stylish-member",
   "metadata": {
    "colab": {
     "base_uri": "https://localhost:8080/"
    },
    "id": "stylish-member",
    "outputId": "2307c733-ee9e-4ffb-92ef-f9d973f53fd6"
   },
   "outputs": [
    {
     "name": "stdout",
     "output_type": "stream",
     "text": [
      "keeping Bert with pre-trained weights\n"
     ]
    },
    {
     "name": "stderr",
     "output_type": "stream",
     "text": [
      "Some weights of the model checkpoint at bert-base-chinese were not used when initializing BertModel: ['cls.seq_relationship.bias', 'cls.predictions.transform.LayerNorm.bias', 'cls.predictions.transform.dense.weight', 'cls.predictions.decoder.weight', 'cls.predictions.transform.dense.bias', 'cls.seq_relationship.weight', 'cls.predictions.transform.LayerNorm.weight', 'cls.predictions.bias']\n",
      "- This IS expected if you are initializing BertModel from the checkpoint of a model trained on another task or with another architecture (e.g. initializing a BertForSequenceClassification model from a BertForPreTraining model).\n",
      "- This IS NOT expected if you are initializing BertModel from the checkpoint of a model that you expect to be exactly identical (initializing a BertForSequenceClassification model from a BertForSequenceClassification model).\n"
     ]
    }
   ],
   "source": [
    "from Eyettention import model\n",
    "import torch\n",
    "from torch.utils import model_zoo\n",
    "\n",
    "#DEVICE = 'cuda'\n",
    "DEVICE = 'cpu'\n",
    "\n",
    "pretrained=True\n",
    "\n",
    "#load model\n",
    "dnn = model.Eyettention(cf)\n",
    "\n",
    "if pretrained:  \n",
    "    #for Chinese\n",
    "    dnn.load_state_dict(model_zoo.load_url('https://github.com/aeye-lab/Eyettention/releases/download/v1.1/Eyettention_chinese.pth', map_location=torch.device('cpu')))"
   ]
  },
  {
   "cell_type": "markdown",
   "id": "f0DvCfMrZMYg",
   "metadata": {
    "id": "f0DvCfMrZMYg"
   },
   "source": [
    "**Tokenization**\n",
    "<br>\n",
    "**Introduction**: https://huggingface.co/learn/nlp-course/chapter2/4?fw=pt"
   ]
  },
  {
   "cell_type": "code",
   "execution_count": 5,
   "id": "severe-findings",
   "metadata": {
    "id": "severe-findings"
   },
   "outputs": [],
   "source": [
    "from transformers import BertTokenizerFast\n",
    "#initialize tokenizer\n",
    "tokenizer = BertTokenizerFast.from_pretrained(cf['model_pretrained'])"
   ]
  },
  {
   "cell_type": "code",
   "execution_count": 6,
   "id": "funded-validity",
   "metadata": {
    "colab": {
     "base_uri": "https://localhost:8080/"
    },
    "id": "funded-validity",
    "outputId": "fbc6c028-3049-42ab-8187-6034e787c59d"
   },
   "outputs": [],
   "source": [
    "sentence = '中国选手在男子滑雪比赛中有望蝉联冠军'\n",
    "#add special tokens\n",
    "#text = ('[CLS]' + ' ' + sentence + ' ' + '[SEP]').split()\n",
    "#print(text)\n",
    "tokens = tokenizer(sentence, add_special_tokens=True, max_length=cf['max_sn_len'], padding='max_length')"
   ]
  },
  {
   "cell_type": "code",
   "execution_count": 7,
   "id": "vulnerable-figure",
   "metadata": {
    "colab": {
     "base_uri": "https://localhost:8080/"
    },
    "id": "vulnerable-figure",
    "outputId": "9dcba3a3-b8b8-4d77-bed9-3b6059f9cea8"
   },
   "outputs": [
    {
     "name": "stdout",
     "output_type": "stream",
     "text": [
      "['[CLS]', '中', '国', '选', '手', '在', '男', '子', '滑', '雪', '比', '赛', '中', '有', '望', '蝉', '联', '冠', '军', '[SEP]']\n"
     ]
    }
   ],
   "source": [
    "print(tokenizer.tokenize(sentence, add_special_tokens=True))"
   ]
  },
  {
   "cell_type": "code",
   "execution_count": 8,
   "id": "inappropriate-marketplace",
   "metadata": {
    "colab": {
     "base_uri": "https://localhost:8080/"
    },
    "id": "inappropriate-marketplace",
    "outputId": "6ca3b171-cd18-4a82-8770-871fd6fad840"
   },
   "outputs": [
    {
     "name": "stdout",
     "output_type": "stream",
     "text": [
      "{'input_ids': [101, 704, 1744, 6848, 2797, 1762, 4511, 2094, 3998, 7434, 3683, 6612, 704, 3300, 3307, 6068, 5468, 1094, 1092, 102, 0, 0, 0, 0, 0, 0, 0], 'token_type_ids': [0, 0, 0, 0, 0, 0, 0, 0, 0, 0, 0, 0, 0, 0, 0, 0, 0, 0, 0, 0, 0, 0, 0, 0, 0, 0, 0], 'attention_mask': [1, 1, 1, 1, 1, 1, 1, 1, 1, 1, 1, 1, 1, 1, 1, 1, 1, 1, 1, 1, 0, 0, 0, 0, 0, 0, 0]}\n"
     ]
    }
   ],
   "source": [
    "print(tokens)"
   ]
  },
  {
   "cell_type": "code",
   "execution_count": 9,
   "id": "intelligent-express",
   "metadata": {
    "colab": {
     "base_uri": "https://localhost:8080/"
    },
    "id": "intelligent-express",
    "outputId": "3a185313-5e28-450b-cd8c-4b885bac07f0"
   },
   "outputs": [],
   "source": [
    "#we do not need word index in Chinese language since each character is encoded independently. "
   ]
  },
  {
   "cell_type": "markdown",
   "id": "Zz6pcnFualMb",
   "metadata": {
    "id": "Zz6pcnFualMb"
   },
   "source": [
    "**Prepare features**"
   ]
  },
  {
   "cell_type": "code",
   "execution_count": 10,
   "id": "specified-stomach",
   "metadata": {
    "id": "specified-stomach"
   },
   "outputs": [],
   "source": [
    "def compute_BSC_word_length(sentence, lac):\n",
    "    word_string = lac.run(sentence)\n",
    "    #print(word_string)\n",
    "    word_len = [len(i) for i in word_string]\n",
    "    wl_list = []\n",
    "    for wl in word_len:\n",
    "        wl_list.extend([wl]*wl)\n",
    "    arr = np.asarray(wl_list, dtype=np.float32)\n",
    "    #length of a punctuation is 0, plus an epsilon to avoid division output inf\n",
    "    arr[arr==0] = 1/(0+0.5)\n",
    "    arr[arr!=0] = 1/(arr[arr!=0])\n",
    "    return arr\n",
    "\n",
    "def pad_seq(seqs, max_len, dtype=np.int32, fill_value=np.nan):\n",
    "    padded = np.full((len(seqs), max_len), fill_value=fill_value, dtype=dtype)\n",
    "    for i, seq in enumerate(seqs):\n",
    "        padded[i, 1:(len(seq)+1)] = seq\n",
    "    return padded"
   ]
  },
  {
   "cell_type": "code",
   "execution_count": 11,
   "id": "59e9c3cf",
   "metadata": {},
   "outputs": [
    {
     "name": "stdout",
     "output_type": "stream",
     "text": [
      "Requirement already satisfied: LAC in c:\\users\\shuwe\\anaconda3\\envs\\wenwen\\lib\\site-packages (2.1.2)\n"
     ]
    }
   ],
   "source": [
    "#segment sentene into word (not character) to calculate word length features\n",
    "!pip install LAC"
   ]
  },
  {
   "cell_type": "code",
   "execution_count": 12,
   "id": "ce1a958a",
   "metadata": {},
   "outputs": [
    {
     "name": "stdout",
     "output_type": "stream",
     "text": [
      "Requirement already satisfied: paddlepaddle==2.5.2 in c:\\users\\shuwe\\anaconda3\\envs\\wenwen\\lib\\site-packages (2.5.2)\n",
      "Requirement already satisfied: decorator in c:\\users\\shuwe\\appdata\\roaming\\python\\python38\\site-packages (from paddlepaddle==2.5.2) (4.4.2)\n",
      "Requirement already satisfied: opt-einsum==3.3.0 in c:\\users\\shuwe\\anaconda3\\envs\\wenwen\\lib\\site-packages (from paddlepaddle==2.5.2) (3.3.0)\n",
      "Requirement already satisfied: astor in c:\\users\\shuwe\\anaconda3\\envs\\wenwen\\lib\\site-packages (from paddlepaddle==2.5.2) (0.8.1)\n",
      "Requirement already satisfied: protobuf<=3.20.2,>=3.1.0 in c:\\users\\shuwe\\anaconda3\\envs\\wenwen\\lib\\site-packages (from paddlepaddle==2.5.2) (3.14.0)\n",
      "Requirement already satisfied: httpx in c:\\users\\shuwe\\anaconda3\\envs\\wenwen\\lib\\site-packages (from paddlepaddle==2.5.2) (0.26.0)\n",
      "Requirement already satisfied: Pillow in c:\\users\\shuwe\\anaconda3\\envs\\wenwen\\lib\\site-packages (from paddlepaddle==2.5.2) (10.1.0)\n",
      "Requirement already satisfied: numpy>=1.13 in c:\\users\\shuwe\\appdata\\roaming\\python\\python38\\site-packages (from paddlepaddle==2.5.2) (1.20.3)\n",
      "Requirement already satisfied: six>=1.9 in c:\\users\\shuwe\\appdata\\roaming\\python\\python38\\site-packages (from protobuf<=3.20.2,>=3.1.0->paddlepaddle==2.5.2) (1.16.0)\n",
      "Requirement already satisfied: anyio in c:\\users\\shuwe\\anaconda3\\envs\\wenwen\\lib\\site-packages (from httpx->paddlepaddle==2.5.2) (2.2.0)\n",
      "Requirement already satisfied: sniffio in c:\\users\\shuwe\\anaconda3\\envs\\wenwen\\lib\\site-packages (from httpx->paddlepaddle==2.5.2) (1.2.0)\n",
      "Requirement already satisfied: certifi in c:\\users\\shuwe\\appdata\\roaming\\python\\python38\\site-packages (from httpx->paddlepaddle==2.5.2) (2020.12.5)\n",
      "Requirement already satisfied: httpcore==1.* in c:\\users\\shuwe\\anaconda3\\envs\\wenwen\\lib\\site-packages (from httpx->paddlepaddle==2.5.2) (1.0.2)\n",
      "Requirement already satisfied: idna in c:\\users\\shuwe\\appdata\\roaming\\python\\python38\\site-packages (from httpx->paddlepaddle==2.5.2) (2.10)\n",
      "Requirement already satisfied: h11<0.15,>=0.13 in c:\\users\\shuwe\\anaconda3\\envs\\wenwen\\lib\\site-packages (from httpcore==1.*->httpx->paddlepaddle==2.5.2) (0.14.0)\n"
     ]
    }
   ],
   "source": [
    "!pip install paddlepaddle==2.5.2\n",
    "from LAC import LAC\n",
    "lac = LAC(mode=\"seg\")"
   ]
  },
  {
   "cell_type": "code",
   "execution_count": 13,
   "id": "proprietary-efficiency",
   "metadata": {
    "colab": {
     "base_uri": "https://localhost:8080/"
    },
    "id": "proprietary-efficiency",
    "outputId": "a2b21281-ff87-4757-d3ff-88b9702436de"
   },
   "outputs": [
    {
     "name": "stdout",
     "output_type": "stream",
     "text": [
      "[[nan 0.5 0.5 0.5 0.5 1.  0.5 0.5 0.5 0.5 0.5 0.5 1.  0.5 0.5 0.5 0.5 0.5\n",
      "  0.5 nan nan nan nan nan nan nan nan]]\n"
     ]
    }
   ],
   "source": [
    "#compute the word length feature\n",
    "text_word_len = [compute_BSC_word_length(txt, lac) for txt in [sentence]]\n",
    "text_word_len = pad_seq(text_word_len, cf['max_sn_len'], fill_value=np.nan, dtype=np.float32)\n",
    "print(text_word_len)"
   ]
  },
  {
   "cell_type": "code",
   "execution_count": 14,
   "id": "severe-industry",
   "metadata": {
    "colab": {
     "base_uri": "https://localhost:8080/"
    },
    "id": "severe-industry",
    "outputId": "93474602-f510-4841-c612-dca9de230a9b"
   },
   "outputs": [
    {
     "name": "stderr",
     "output_type": "stream",
     "text": [
      "'wget' is not recognized as an internal or external command,\n",
      "operable program or batch file.\n"
     ]
    }
   ],
   "source": [
    "#Download precomputed sn_word_len mean and std (from CELER dataset) for feature normalization\n",
    "import pickle\n",
    "!wget https://github.com/aeye-lab/Eyettention/releases/download/v1.1/feature_norm_BSC.pickle\n",
    "path = 'feature_norm_BSC.pickle'\n",
    "file_to_read = open(path, \"rb\")\n",
    "loaded_dictionary = pickle.load(file_to_read)\n",
    "sn_word_len_mean = loaded_dictionary['sn_word_len_mean'].numpy()\n",
    "sn_word_len_std = loaded_dictionary['sn_word_len_std'].numpy()"
   ]
  },
  {
   "cell_type": "code",
   "execution_count": 15,
   "id": "dried-biodiversity",
   "metadata": {
    "id": "dried-biodiversity"
   },
   "outputs": [],
   "source": [
    "#normalize word length feature\n",
    "text_word_len = (text_word_len - sn_word_len_mean)/sn_word_len_std\n",
    "text_word_len = np.nan_to_num(text_word_len)"
   ]
  },
  {
   "cell_type": "code",
   "execution_count": 17,
   "id": "according-decimal",
   "metadata": {
    "colab": {
     "base_uri": "https://localhost:8080/"
    },
    "id": "according-decimal",
    "outputId": "e88d7af1-1d6a-4d65-86cc-f6bb50dd3c2a"
   },
   "outputs": [],
   "source": [
    "tokens['input_ids'] = torch.tensor([tokens['input_ids']]).to(DEVICE)\n",
    "tokens['attention_mask'] = torch.tensor([tokens['attention_mask']]).to(DEVICE)\n",
    "word_len = torch.tensor([text_word_len.squeeze()]).to(DEVICE)"
   ]
  },
  {
   "cell_type": "markdown",
   "id": "Nrm-Rq4Ya2TX",
   "metadata": {
    "id": "Nrm-Rq4Ya2TX"
   },
   "source": [
    "**Generate synthetic scanpath**"
   ]
  },
  {
   "cell_type": "code",
   "execution_count": 18,
   "id": "novel-monaco",
   "metadata": {
    "colab": {
     "base_uri": "https://localhost:8080/",
     "height": 74
    },
    "id": "novel-monaco",
    "outputId": "8169a529-a161-4e48-d324-0c4399d8ff70"
   },
   "outputs": [
    {
     "data": {
      "text/plain": [
       "LabelEncoder()"
      ]
     },
     "execution_count": 18,
     "metadata": {},
     "output_type": "execute_result"
    }
   ],
   "source": [
    "from sklearn.preprocessing import LabelEncoder\n",
    "#prepare the saccade range classes for model predictions, cf[\"max_sn_len\"]-1 -> stop class\n",
    "le = LabelEncoder()\n",
    "le.fit(np.append(np.arange(-cf[\"max_sn_len\"]+3, cf[\"max_sn_len\"]-1), cf[\"max_sn_len\"]-1))\n",
    "#le.classes_"
   ]
  },
  {
   "cell_type": "code",
   "execution_count": 19,
   "id": "mathematical-dimension",
   "metadata": {
    "id": "mathematical-dimension"
   },
   "outputs": [],
   "source": [
    "syn_scanpath, density_pred = dnn.scanpath_generation(sn_emd=tokens['input_ids'],\n",
    "                                                     sn_mask=tokens['attention_mask'],\n",
    "                                                     word_ids_sn=None,\n",
    "                                                     sn_word_len = word_len,\n",
    "                                                     le=le,\n",
    "                                                     max_pred_len=50)"
   ]
  },
  {
   "cell_type": "code",
   "execution_count": 20,
   "id": "bacterial-cardiff",
   "metadata": {
    "id": "bacterial-cardiff"
   },
   "outputs": [],
   "source": [
    "def post_process_scanpath(syn_scanpath, sn_len):\n",
    "    syn_scanpath = syn_scanpath.detach().to('cpu').numpy()\n",
    "    max_sp_len = syn_scanpath.shape[1]\n",
    "\n",
    "    #Find the number \"sn_len+1\" -> the stop class\n",
    "    stop_indx = []\n",
    "    for i in range(syn_scanpath.shape[0]):\n",
    "        stop = np.where(syn_scanpath[i,:]==(sn_len[i]+1))[0]\n",
    "        if len(stop)==0:#no stop class can be find -> exceeds the maximum length of the generated scanpath\n",
    "            stop_indx.append(max_sp_len-1)\n",
    "        else:\n",
    "            stop_indx.append(stop[0])\n",
    "\n",
    "    #Truncating data after the stop class\n",
    "    syn_scanpath_cut = [syn_scanpath[i][1:stop_indx[i]] for i in range(syn_scanpath.shape[0])]\n",
    "    return syn_scanpath_cut"
   ]
  },
  {
   "cell_type": "code",
   "execution_count": 21,
   "id": "southern-cycling",
   "metadata": {
    "colab": {
     "base_uri": "https://localhost:8080/"
    },
    "id": "southern-cycling",
    "outputId": "32c519fa-5251-4869-fc78-242bae3cc5f3"
   },
   "outputs": [
    {
     "name": "stdout",
     "output_type": "stream",
     "text": [
      "[ 1  3  6  9 11 13 16 17 12 15]\n"
     ]
    }
   ],
   "source": [
    "sn_len = (torch.sum(tokens['attention_mask'], axis=1) - 2).detach().to('cpu').numpy()\n",
    "syn_scanpath = post_process_scanpath(syn_scanpath, sn_len)\n",
    "print(syn_scanpath[0])"
   ]
  },
  {
   "cell_type": "code",
   "execution_count": 22,
   "id": "imposed-passing",
   "metadata": {
    "colab": {
     "base_uri": "https://localhost:8080/"
    },
    "id": "imposed-passing",
    "outputId": "2400559b-3d51-461b-8df2-19f1ccc621da"
   },
   "outputs": [
    {
     "name": "stdout",
     "output_type": "stream",
     "text": [
      "['中', '选', '男', '雪', '赛', '有', '联', '冠', '中', '蝉']\n"
     ]
    }
   ],
   "source": [
    "fixated_character = [sentence[idx-1] for idx in syn_scanpath[0]] #python index start from 0, our model prediction index start from 1\n",
    "print(fixated_character)"
   ]
  },
  {
   "cell_type": "markdown",
   "id": "Q9ojBr5rba-R",
   "metadata": {
    "id": "Q9ojBr5rba-R"
   },
   "source": [
    "**Prediction visualization**"
   ]
  },
  {
   "cell_type": "code",
   "execution_count": 26,
   "id": "dental-knock",
   "metadata": {
    "id": "dental-knock"
   },
   "outputs": [],
   "source": [
    "import matplotlib.pyplot as plt\n",
    "import seaborn as sns\n",
    "plt.rcParams[\"font.sans-serif\"]=['SimHei']\n",
    "def visualize_distribution(syn_scanpath, density_pred, timestep, text):\n",
    "    #visualize density map\n",
    "    plt.figure(figsize = (25,5))\n",
    "    sac_range = np.append(np.arange(-cf[\"max_sn_len\"]+3, cf[\"max_sn_len\"]-1), cf[\"max_sn_len\"]-1)\n",
    "\n",
    "    #current gaze position\n",
    "    cur_loc = syn_scanpath[timestep]\n",
    "    #convert the saccade range classes to the target word indexes\n",
    "    target_loc = sac_range + cur_loc\n",
    "\n",
    "    prob_valid = density_pred[np.where((0 <= target_loc) & (target_loc <= (len(text)-2)))]#exclude SEP token\n",
    "    prob_valid = np.append(prob_valid, density_pred[-1])\n",
    "\n",
    "    plt.subplot(2, 1, 2)\n",
    "    sns.heatmap(prob_valid[np.newaxis, :], annot=np.array(text)[np.newaxis,:], fmt=\"\", linewidths=2, cmap=\"YlGnBu\", xticklabels=False, yticklabels=False, cbar=True, annot_kws={\"fontsize\":15}, cbar_kws = dict(use_gridspec=False,location=\"top\"))\n",
    "    y = 3\n",
    "    for past_ts in range(timestep):\n",
    "        dy = 0\n",
    "        dx = syn_scanpath[past_ts+1] - syn_scanpath[past_ts]\n",
    "        #if refixation, display on next line\n",
    "        if dx <= 0:\n",
    "            dy = -0.5\n",
    "            plt.arrow(syn_scanpath[past_ts]+0.5, y, dx, dy, color='b', ec ='blue', head_width=0.2)\n",
    "            y = y + dy\n",
    "        else:\n",
    "            plt.arrow(syn_scanpath[past_ts]+0.5, y, dx, dy, color='b', ec ='blue', head_width=0.2)\n",
    "\n",
    "    plt.arrow(syn_scanpath[timestep]+0.5, y, (syn_scanpath[timestep+1]-syn_scanpath[timestep]), 0, color='r', ec ='red', head_width=0.2)\n",
    "    plt.xlim([0, len(text)])\n",
    "    plt.ylim([0, 3.5])\n",
    "    ax = plt.gca()\n",
    "    ax.axes.get_xaxis().set_visible(False)\n",
    "    ax.axes.get_yaxis().set_visible(False)"
   ]
  },
  {
   "cell_type": "code",
   "execution_count": 27,
   "id": "cross-commercial",
   "metadata": {
    "colab": {
     "base_uri": "https://localhost:8080/",
     "height": 130
    },
    "id": "cross-commercial",
    "outputId": "66a6e06d-7473-412f-9dba-10b9db130b9a"
   },
   "outputs": [
    {
     "data": {
      "image/png": "[encoded data removed]",
      "text/plain": [
       "<Figure size 1800x360 with 2 Axes>"
      ]
     },
     "metadata": {
      "needs_background": "light"
     },
     "output_type": "display_data"
    }
   ],
   "source": [
    "sn_char = [c for c in sentence]\n",
    "sn_char = [''] + sn_char + ['SEP']\n",
    "sample_index=0\n",
    "timestep = 2\n",
    "visualize_distribution(syn_scanpath=syn_scanpath[sample_index],\n",
    "                       density_pred=density_pred[timestep][sample_index].detach().numpy(),\n",
    "                       timestep=timestep,\n",
    "                       text=[c for c in sentence])"
   ]
  },
  {
   "cell_type": "code",
   "execution_count": null,
   "id": "orange-persian",
   "metadata": {
    "colab": {
     "base_uri": "https://localhost:8080/",
     "height": 130
    },
    "id": "orange-persian",
    "outputId": "df44ad8a-8a17-4f20-9c1d-3dea8be063a7"
   },
   "outputs": [
    {
     "data": {
      "image/png": "[encoded data removed]",
      "text/plain": [
       "<Figure size 2500x500 with 2 Axes>"
      ]
     },
     "metadata": {},
     "output_type": "display_data"
    }
   ],
   "source": [
    "sample_index=0\n",
    "timestep = 8\n",
    "visualize_distribution(syn_scanpath=syn_scanpath[sample_index],\n",
    "                       density_pred=density_pred[timestep][sample_index].detach().numpy(),\n",
    "                       timestep=timestep,\n",
    "                       text=text)"
   ]
  },
  {
   "cell_type": "markdown",
   "id": "LQew7DVKcQ_t",
   "metadata": {
    "id": "LQew7DVKcQ_t"
   },
   "source": [
    "**Assignments**\n",
    "<br>\n",
    "Generate synthetic scanpaths for the following sentences:\n",
    "<br>\n",
    "1. Dole took many odd-jobs around Russell as a boy, and would later work as a soda jerk in the local drug store.\n",
    "<br>\n",
    "2. Dole studied Law at KU, but his studies were interrupted by the start of World War II.\n",
    "<br>\n",
    "3. He is of three quarters Irish and one quarter French descent."
   ]
  },
  {
   "cell_type": "code",
   "execution_count": null,
   "id": "preceding-phenomenon",
   "metadata": {
    "id": "preceding-phenomenon"
   },
   "outputs": [],
   "source": []
  }
 ],
 "metadata": {
  "colab": {
   "provenance": []
  },
  "kernelspec": {
   "display_name": "Python 3",
   "language": "python",
   "name": "python3"
  },
  "language_info": {
   "codemirror_mode": {
    "name": "ipython",
    "version": 3
   },
   "file_extension": ".py",
   "mimetype": "text/x-python",
   "name": "python",
   "nbconvert_exporter": "python",
   "pygments_lexer": "ipython3",
   "version": "3.8.10"
  }
 },
 "nbformat": 4,
 "nbformat_minor": 5
}
