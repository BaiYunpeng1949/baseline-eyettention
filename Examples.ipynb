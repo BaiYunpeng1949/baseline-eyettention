{
 "cells": [
  {
   "cell_type": "markdown",
   "id": "nuclear-dream",
   "metadata": {},
   "source": [
    "# Eyettention"
   ]
  },
  {
   "cell_type": "code",
   "execution_count": 1,
   "id": "neutral-montreal",
   "metadata": {},
   "outputs": [],
   "source": [
    "import numpy as np\n",
    "#configuration\n",
    "#English\n",
    "cf = {\"model_pretrained\": \"bert-base-cased\",\n",
    "      \"atten_type\": 'local-g',\n",
    "      #batch computation for training (CELER dataset)\n",
    "      \"max_sn_len\": 24,\n",
    "      \"max_sn_token\": 35,\n",
    "      \"max_sp_len\": 52\n",
    "     }\n",
    "\n",
    "#Chinese\n",
    "#cf = {\"model_pretrained\": \"bert-base-chinese\",\n",
    "      #\"atten_type\": 'local-g',\n",
    "      #batch computation for training (BSC dataset)\n",
    "      #\"max_sn_len\": 27,\n",
    "      #\"max_sp_len\": 40\n",
    "     #"
   ]
  },
  {
   "cell_type": "code",
   "execution_count": 17,
   "id": "stylish-member",
   "metadata": {},
   "outputs": [
    {
     "name": "stdout",
     "output_type": "stream",
     "text": [
      "keeping Bert with pre-trained weights\n"
     ]
    },
    {
     "name": "stderr",
     "output_type": "stream",
     "text": [
      "Some weights of the model checkpoint at bert-base-cased were not used when initializing BertModel: ['cls.seq_relationship.bias', 'cls.predictions.transform.LayerNorm.weight', 'cls.predictions.transform.LayerNorm.bias', 'cls.predictions.transform.dense.weight', 'cls.predictions.decoder.weight', 'cls.seq_relationship.weight', 'cls.predictions.bias', 'cls.predictions.transform.dense.bias']\n",
      "- This IS expected if you are initializing BertModel from the checkpoint of a model trained on another task or with another architecture (e.g. initializing a BertForSequenceClassification model from a BertForPreTraining model).\n",
      "- This IS NOT expected if you are initializing BertModel from the checkpoint of a model that you expect to be exactly identical (initializing a BertForSequenceClassification model from a BertForSequenceClassification model).\n"
     ]
    }
   ],
   "source": [
    "import model\n",
    "import torch\n",
    "from torch.utils import model_zoo\n",
    "\n",
    "#DEVICE = 'cuda'\n",
    "DEVICE = 'cpu'\n",
    "\n",
    "pretrained=True\n",
    "\n",
    "#load model\n",
    "dnn = model.Eyettention(cf)\n",
    "\n",
    "if pretrained:\n",
    "    dnn.load_state_dict(model_zoo.load_url('https://github.com/aeye-lab/Eyettention/releases/download/v1.0/Eyettention_english.pth', map_location=torch.device('cpu')))"
   ]
  },
  {
   "cell_type": "code",
   "execution_count": 18,
   "id": "severe-findings",
   "metadata": {},
   "outputs": [],
   "source": [
    "from transformers import BertTokenizerFast\n",
    "#initialize tokenizer\n",
    "tokenizer = BertTokenizerFast.from_pretrained(cf['model_pretrained'])"
   ]
  },
  {
   "cell_type": "code",
   "execution_count": 19,
   "id": "funded-validity",
   "metadata": {},
   "outputs": [
    {
     "name": "stdout",
     "output_type": "stream",
     "text": [
      "['[CLS]', 'He', 'said', \"BankEast's\", 'offer', 'appears', 'to', 'be', '\"attractive', 'to', 'the', \"bank's\", 'shareholders.\"', '[SEP]']\n"
     ]
    }
   ],
   "source": [
    "sentence = 'He said BankEast\\'s offer appears to be \"attractive to the bank\\'s shareholders.\"'\n",
    "#add special tokens\n",
    "text = ('[CLS]' + ' ' + sentence + ' ' + '[SEP]').split()\n",
    "print(text)\n",
    "tokens = tokenizer(text, add_special_tokens=False, max_length=cf['max_sn_token'], padding='max_length', is_split_into_words=True)"
   ]
  },
  {
   "cell_type": "code",
   "execution_count": 20,
   "id": "vulnerable-figure",
   "metadata": {},
   "outputs": [
    {
     "name": "stdout",
     "output_type": "stream",
     "text": [
      "['[CLS]', 'He', 'said', 'Bank', '##E', '##ast', \"'\", 's', 'offer', 'appears', 'to', 'be', '\"', 'attractive', 'to', 'the', 'bank', \"'\", 's', 'shareholders', '.', '\"', '[SEP]']\n"
     ]
    }
   ],
   "source": [
    "print(tokenizer.tokenize(text, add_special_tokens=False, is_split_into_words=True))"
   ]
  },
  {
   "cell_type": "code",
   "execution_count": 21,
   "id": "inappropriate-marketplace",
   "metadata": {},
   "outputs": [
    {
     "name": "stdout",
     "output_type": "stream",
     "text": [
      "{'input_ids': [101, 1124, 1163, 2950, 2036, 12788, 112, 188, 2906, 2691, 1106, 1129, 107, 8394, 1106, 1103, 3085, 112, 188, 16741, 119, 107, 102, 0, 0, 0, 0, 0, 0, 0, 0, 0, 0, 0, 0], 'token_type_ids': [0, 0, 0, 0, 0, 0, 0, 0, 0, 0, 0, 0, 0, 0, 0, 0, 0, 0, 0, 0, 0, 0, 0, 0, 0, 0, 0, 0, 0, 0, 0, 0, 0, 0, 0], 'attention_mask': [1, 1, 1, 1, 1, 1, 1, 1, 1, 1, 1, 1, 1, 1, 1, 1, 1, 1, 1, 1, 1, 1, 1, 0, 0, 0, 0, 0, 0, 0, 0, 0, 0, 0, 0]}\n"
     ]
    }
   ],
   "source": [
    "print(tokens)"
   ]
  },
  {
   "cell_type": "code",
   "execution_count": 22,
   "id": "intelligent-express",
   "metadata": {},
   "outputs": [],
   "source": [
    "#use offset mapping to assign a word index to each token.\n",
    "#index start from 0, CLS -> 0 and SEP -> last index\n",
    "word_ids = tokens.word_ids()\n",
    "word_ids = [val if val is not None else np.nan for val in word_ids]\n",
    "print(word_ids)"
   ]
  },
  {
   "cell_type": "code",
   "execution_count": 24,
   "id": "specified-stomach",
   "metadata": {},
   "outputs": [],
   "source": [
    "def compute_word_length(txt):\n",
    "    txt_word_len = [len(t) for t in txt[1:-1]]\n",
    "    #pad nan for CLS and SEP tokens\n",
    "    txt_word_len = [np.nan] + txt_word_len + [np.nan]\n",
    "    #length of a punctuation is 0, plus an epsilon to avoid division output inf\n",
    "    arr = np.array(txt_word_len).astype('float64')\n",
    "    arr[arr==0] = 1/(0+0.5)\n",
    "    arr[arr!=0] = 1/(arr[arr!=0])\n",
    "    return arr\n",
    "\n",
    "def pad_seq(seqs, max_len, dtype=np.int32, fill_value=np.nan):\n",
    "    padded = np.full((len(seqs), max_len), fill_value=fill_value, dtype=dtype)\n",
    "    for i, seq in enumerate(seqs):\n",
    "        padded[i, :len(seq)] = seq\n",
    "    return padded"
   ]
  },
  {
   "cell_type": "code",
   "execution_count": 25,
   "id": "proprietary-efficiency",
   "metadata": {},
   "outputs": [],
   "source": [
    "#compute the word length feature\n",
    "text_word_len = [compute_word_length(txt) for txt in [text]]\n",
    "text_word_len = pad_seq(text_word_len, cf['max_sn_len'], fill_value=np.nan, dtype=np.float32)\n",
    "print(text_word_len)"
   ]
  },
  {
   "cell_type": "code",
   "execution_count": 27,
   "id": "severe-industry",
   "metadata": {},
   "outputs": [],
   "source": [
    "#load precomputed sn_word_len mean and std (from CELER dataset)\n",
    "# you can download the file from https://github.com/aeye-lab/Eyettention/releases/download/v1.0/.\n",
    "import pickle\n",
    "path = 'feature_norm_celer.pickle'\n",
    "file_to_read = open(path, \"rb\")\n",
    "loaded_dictionary = pickle.load(file_to_read)\n",
    "sn_word_len_mean = loaded_dictionary['sn_word_len_mean']\n",
    "sn_word_len_std = loaded_dictionary['sn_word_len_std']"
   ]
  },
  {
   "cell_type": "code",
   "execution_count": 28,
   "id": "dried-biodiversity",
   "metadata": {},
   "outputs": [],
   "source": [
    "#normalize word length feature\n",
    "text_word_len = (text_word_len - sn_word_len_mean)/sn_word_len_std\n",
    "text_word_len = np.nan_to_num(text_word_len)"
   ]
  },
  {
   "cell_type": "code",
   "execution_count": 29,
   "id": "according-decimal",
   "metadata": {},
   "outputs": [],
   "source": [
    "tokens['input_ids'] = torch.tensor([tokens['input_ids']]).to(DEVICE)\n",
    "tokens['attention_mask'] = torch.tensor([tokens['attention_mask']]).to(DEVICE)\n",
    "word_ids = torch.tensor([word_ids]).to(DEVICE)\n",
    "word_len = torch.tensor([text_word_len.squeeze()]).to(DEVICE)"
   ]
  },
  {
   "cell_type": "code",
   "execution_count": 30,
   "id": "novel-monaco",
   "metadata": {},
   "outputs": [
    {
     "data": {
      "text/plain": [
       "LabelEncoder()"
      ]
     },
     "execution_count": 30,
     "metadata": {},
     "output_type": "execute_result"
    }
   ],
   "source": [
    "from sklearn.preprocessing import LabelEncoder\n",
    "#prepare the saccade range classes for model predictions, cf[\"max_sn_len\"]-1 -> stop class\n",
    "le = LabelEncoder()\n",
    "le.fit(np.append(np.arange(-cf[\"max_sn_len\"]+3, cf[\"max_sn_len\"]-1), cf[\"max_sn_len\"]-1))\n",
    "#le.classes_"
   ]
  },
  {
   "cell_type": "code",
   "execution_count": 52,
   "id": "mathematical-dimension",
   "metadata": {},
   "outputs": [],
   "source": [
    "syn_scanpath, density_pred = dnn.scanpath_generation(sn_emd=tokens['input_ids'],\\\n",
    "                                                     sn_mask=tokens['attention_mask'],\\\n",
    "                                                     word_ids_sn=word_ids,\\\n",
    "                                                     sn_word_len = word_len,\\\n",
    "                                                     le=le,\\\n",
    "                                                     max_pred_len=50)\\"
   ]
  },
  {
   "cell_type": "code",
   "execution_count": 45,
   "id": "bacterial-cardiff",
   "metadata": {},
   "outputs": [],
   "source": [
    "def post_process_scanpath(syn_scanpath, sn_len):\n",
    "    syn_scanpath = syn_scanpath.detach().to('cpu').numpy()\n",
    "    max_sp_len = syn_scanpath.shape[1]\n",
    "    \n",
    "    #Find the number \"sn_len+1\" -> the stop class\n",
    "    stop_indx = []\n",
    "    for i in range(syn_scanpath.shape[0]):\n",
    "        stop = np.where(syn_scanpath[i,:]==(sn_len[i]+1))[0]\n",
    "        if len(stop)==0:#no stop class can be find -> exceeds the maximum length of the generated scanpath\n",
    "            stop_indx.append(max_sp_len-1)\n",
    "        else:\n",
    "            stop_indx.append(stop[0])\n",
    "\n",
    "    #Truncating data after the stop class\n",
    "    syn_scanpath_cut = [syn_scanpath[i][1:stop_indx[i]] for i in range(syn_scanpath.shape[0])]\n",
    "    return syn_scanpath_cut"
   ]
  },
  {
   "cell_type": "code",
   "execution_count": 53,
   "id": "southern-cycling",
   "metadata": {},
   "outputs": [
    {
     "name": "stdout",
     "output_type": "stream",
     "text": [
      "['He', 'said', \"BankEast's\", 'offer', 'offer', 'be', '\"attractive', 'the', \"bank's\", 'the', 'to', '\"attractive', 'shareholders.\"', \"bank's\", 'the', 'to', '\"attractive', \"bank's\", '\"attractive', '\"attractive', \"bank's\", 'shareholders.\"', 'He']\n"
     ]
    }
   ],
   "source": [
    "sn_len = (torch.max(torch.nan_to_num(word_ids), dim=1)[0]+1-2).detach().to('cpu').numpy()\n",
    "syn_scanpath = post_process_scanpath(syn_scanpath, sn_len)\n",
    "print(syn_scanpath[0])"
   ]
  },
  {
   "cell_type": "code",
   "execution_count": null,
   "id": "imposed-passing",
   "metadata": {},
   "outputs": [],
   "source": [
    "fixated_word = [text[idx] for idx in syn_scanpath[0]] \n",
    "print(fixated_word)"
   ]
  },
  {
   "cell_type": "code",
   "execution_count": 95,
   "id": "dental-knock",
   "metadata": {},
   "outputs": [],
   "source": [
    "import matplotlib.pyplot as plt\n",
    "import seaborn as sns\n",
    "\n",
    "def visualize_distribution(syn_scanpath, density_pred, timestep, text):\n",
    "    #visualize density map\n",
    "    plt.figure(figsize = (25,5))\n",
    "    sac_range = np.append(np.arange(-cf[\"max_sn_len\"]+3, cf[\"max_sn_len\"]-1), cf[\"max_sn_len\"]-1)\n",
    "    \n",
    "    #current gaze position\n",
    "    cur_loc = syn_scanpath[timestep]\n",
    "    #convert the saccade range classes to the target word indexes\n",
    "    target_loc = sac_range + cur_loc\n",
    "    \n",
    "    prob_valid = density_pred[np.where((0 <= target_loc) & (target_loc <= (len(text)-2)))]#exclude SEP token\n",
    "    prob_valid = np.append(prob_valid, density_pred[-1])\n",
    "    \n",
    "    plt.subplot(2, 1, 2)\n",
    "    sns.heatmap(prob_valid[np.newaxis, :], annot=np.array(text)[np.newaxis,:], fmt=\"\", linewidths=2, cmap=\"YlGnBu\", xticklabels=False, yticklabels=False, cbar=True, annot_kws={\"fontsize\":15}, cbar_kws = dict(use_gridspec=False,location=\"top\"))\n",
    "    y = 3\n",
    "    for past_ts in range(timestep):\n",
    "        dy = 0\n",
    "        dx = syn_scanpath[past_ts+1] - syn_scanpath[past_ts]\n",
    "        #if refixation, display on next line\n",
    "        if dx <= 0:\n",
    "            dy = -0.5\n",
    "            plt.arrow(syn_scanpath[past_ts]+0.5, y, dx, dy, color='b', ec ='blue', head_width=0.2)\n",
    "            y = y + dy\n",
    "        else:\n",
    "            plt.arrow(syn_scanpath[past_ts]+0.5, y, dx, dy, color='b', ec ='blue', head_width=0.2)\n",
    "\n",
    "    plt.arrow(syn_scanpath[timestep]+0.5, y, (syn_scanpath[timestep+1]-syn_scanpath[timestep]), 0, color='r', ec ='red', head_width=0.2)\n",
    "    plt.xlim([0, len(text)])\n",
    "    plt.ylim([0, 3.5])\n",
    "    ax = plt.gca()\n",
    "    ax.axes.get_xaxis().set_visible(False)\n",
    "    ax.axes.get_yaxis().set_visible(False)"
   ]
  },
  {
   "cell_type": "code",
   "execution_count": 96,
   "id": "cross-commercial",
   "metadata": {},
   "outputs": [
    {
     "data": {
      "image/png": "[encoded data removed]",
      "text/plain": [
       "<Figure size 1800x360 with 2 Axes>"
      ]
     },
     "metadata": {
      "needs_background": "light"
     },
     "output_type": "display_data"
    }
   ],
   "source": [
    "sample_index=0\n",
    "timestep = 5\n",
    "visualize_distribution(syn_scanpath=syn_scanpath[sample_index], \n",
    "                       density_pred=density_pred[timestep][sample_index].detach().numpy(), \n",
    "                       timestep=timestep, \n",
    "                       text=text)"
   ]
  },
  {
   "cell_type": "code",
   "execution_count": 98,
   "id": "orange-persian",
   "metadata": {},
   "outputs": [
    {
     "data": {
      "image/png": "[encoded data removed]",
      "text/plain": [
       "<Figure size 1800x360 with 2 Axes>"
      ]
     },
     "metadata": {
      "needs_background": "light"
     },
     "output_type": "display_data"
    }
   ],
   "source": [
    "sample_index=0\n",
    "timestep = 7\n",
    "visualize_distribution(syn_scanpath=syn_scanpath[sample_index], \n",
    "                       density_pred=density_pred[timestep][sample_index].detach().numpy(), \n",
    "                       timestep=timestep, \n",
    "                       text=text)"
   ]
  },
  {
   "cell_type": "code",
   "execution_count": null,
   "id": "preceding-phenomenon",
   "metadata": {},
   "outputs": [],
   "source": []
  }
 ],
 "metadata": {
  "kernelspec": {
   "display_name": "Python 3",
   "language": "python",
   "name": "python3"
  },
  "language_info": {
   "codemirror_mode": {
    "name": "ipython",
    "version": 3
   },
   "file_extension": ".py",
   "mimetype": "text/x-python",
   "name": "python",
   "nbconvert_exporter": "python",
   "pygments_lexer": "ipython3",
   "version": "3.7.9"
  }
 },
 "nbformat": 4,
 "nbformat_minor": 5
}
